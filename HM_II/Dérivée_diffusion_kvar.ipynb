{
  "metadata": {
    "kernelspec": {
      "name": "xpython",
      "display_name": "Python 3.13 (XPython)",
      "language": "python"
    },
    "language_info": {
      "file_extension": ".py",
      "mimetype": "text/x-python",
      "name": "python",
      "version": "3.13.1"
    }
  },
  "nbformat_minor": 5,
  "nbformat": 4,
  "cells": [
    {
      "id": "d8069b24-5e0a-4bf6-a259-061c80dc22bb",
      "cell_type": "code",
      "source": "%pip install sympy\nfrom sympy import*",
      "metadata": {
        "trusted": true
      },
      "outputs": [
        {
          "name": "stdout",
          "output_type": "stream",
          "text": "Process pip requirements ...\n\nSuccessfully installed sympy-1.14.0 mpmath-1.3.0\n"
        }
      ],
      "execution_count": 3
    },
    {
      "id": "28ccf352-9a6b-4dc9-a87a-ad094bb1d220",
      "cell_type": "code",
      "source": "# Definir les variables symboliques \nPC,PN,PE,PS,PW,Pk1,Pk1n = symbols('PC PW PE PN PS Pk1 Pk1n')\nPold                    = symbols('Pold')\nqN,qE,qS,qW,qk1,qk1n    = symbols('qN qE qS qW qk1 qk1n')\nP1D                     = (PC,PW,PE)\nP2D                     = (PC,PW,PE,PN,PS)\nP3D                     = (PC,PW,PE,PN,PS,Pk1,Pk1n)\nDN,DE,DS,DW,Dk1,Dk1n    = symbols('DN DE DS DW Dk1 Dk1n')\ndx,dy,dz,dt             = symbols('dx dy dz dt')",
      "metadata": {
        "trusted": true
      },
      "outputs": [],
      "execution_count": 20
    },
    {
      "id": "2d3f1c0b-b376-4873-a354-e16007f4d0de",
      "cell_type": "code",
      "source": "# Définir les equations \nqE   = -DE*(PE-PC)/dx \nqW   = -DW*(PC-PW)/dx\nqN   = -DN*(PN-PC)/dy\nqS   = -DS*(PC-PS)/dy\nqk1  = -Dk1*(Pk1-PC)/dz\nqk1n = -Dk1n*(PC-Pk1n)/dz\n\nR1D  = -((PC -Pold) /dt + (qE - qW)/dx)\nR2D  = -((PC - Pold)/dt + (qE - qW)/dx + (qN - qS)/dy)\nR3D  = - ((PC-Pold) / dt + (qE - qW)/dx + (qN - qS)/dy + (qk1 - qk1n)/dz) \n\ndisplay(R1D)\ndisplay(R2D)\ndisplay(R3D)\n",
      "metadata": {
        "trusted": true
      },
      "outputs": [
        {
          "output_type": "display_data",
          "data": {
            "text/latex": "$\\displaystyle - \\frac{- \\frac{DE \\left(- PC + PE\\right)}{dx} + \\frac{DW \\left(PC - PS\\right)}{dx}}{dx} - \\frac{PC - Pold}{dt}$",
            "text/plain": "-(-DE*(-PC + PE)/dx + DW*(PC - PS)/dx)/dx - (PC - Pold)/dt"
          },
          "metadata": {}
        },
        {
          "output_type": "display_data",
          "data": {
            "text/latex": "$\\displaystyle - \\frac{- \\frac{DN \\left(- PC + PW\\right)}{dy} + \\frac{DS \\left(PC - PN\\right)}{dy}}{dy} - \\frac{- \\frac{DE \\left(- PC + PE\\right)}{dx} + \\frac{DW \\left(PC - PS\\right)}{dx}}{dx} - \\frac{PC - Pold}{dt}$",
            "text/plain": "-(-DN*(-PC + PW)/dy + DS*(PC - PN)/dy)/dy - (-DE*(-PC + PE)/dx + DW*(PC - PS)/dx)/dx - (PC - Pold)/dt"
          },
          "metadata": {}
        },
        {
          "output_type": "display_data",
          "data": {
            "text/latex": "$\\displaystyle - \\frac{- \\frac{Dk_{1} \\left(- PC + Pk_{1}\\right)}{dz} + \\frac{Dk1n \\left(PC - Pk1n\\right)}{dz}}{dz} - \\frac{- \\frac{DN \\left(- PC + PW\\right)}{dy} + \\frac{DS \\left(PC - PN\\right)}{dy}}{dy} - \\frac{- \\frac{DE \\left(- PC + PE\\right)}{dx} + \\frac{DW \\left(PC - PS\\right)}{dx}}{dx} - \\frac{PC - Pold}{dt}$",
            "text/plain": "-(-Dk1*(-PC + Pk1)/dz + Dk1n*(PC - Pk1n)/dz)/dz - (-DN*(-PC + PW)/dy + DS*(PC - PN)/dy)/dy - (-DE*(-PC + PE)/dx + DW*(PC - PS)/dx)/dx - (PC - Pold)/dt"
          },
          "metadata": {}
        }
      ],
      "execution_count": 21
    },
    {
      "id": "69034a6b-ad84-4ced-ba7f-48c26347de9e",
      "cell_type": "code",
      "source": "# Calcul la dérivée de l'équation \nR1D_prime = 0\nR2D_prime = 0\nR3D_prime = 0\nfor i in range(3):\n    R1D_prime += abs(diff(R1D, P1D[i]))\n    #print(P[i])\n\nfor i in range(5):\n    R2D_prime += abs(diff(R2D, P2D[i]))\n    #print(P[i])\n\nfor i in range(7):\n    R3D_prime += abs(diff(R3D, P3D[i]))\n    #print(P[i])\n\ndisplay(R1D_prime)\ndisplay(R2D_prime)\ndisplay(R3D_prime)\n",
      "metadata": {
        "trusted": true
      },
      "outputs": [
        {
          "output_type": "display_data",
          "data": {
            "text/latex": "$\\displaystyle \\left|{\\frac{DE}{dx^{2}}}\\right| + \\left|{\\frac{DW}{dx^{2}}}\\right| + \\left|{\\frac{\\frac{DE}{dx} + \\frac{DW}{dx}}{dx} + \\frac{1}{dt}}\\right|$",
            "text/plain": "Abs(DE/dx**2) + Abs(DW/dx**2) + Abs((DE/dx + DW/dx)/dx + 1/dt)"
          },
          "metadata": {}
        },
        {
          "output_type": "display_data",
          "data": {
            "text/latex": "$\\displaystyle \\left|{\\frac{DE}{dx^{2}}}\\right| + \\left|{\\frac{DN}{dy^{2}}}\\right| + \\left|{\\frac{DS}{dy^{2}}}\\right| + \\left|{\\frac{DW}{dx^{2}}}\\right| + \\left|{\\frac{\\frac{DN}{dy} + \\frac{DS}{dy}}{dy} + \\frac{\\frac{DE}{dx} + \\frac{DW}{dx}}{dx} + \\frac{1}{dt}}\\right|$",
            "text/plain": "Abs(DE/dx**2) + Abs(DN/dy**2) + Abs(DS/dy**2) + Abs(DW/dx**2) + Abs((DN/dy + DS/dy)/dy + (DE/dx + DW/dx)/dx + 1/dt)"
          },
          "metadata": {}
        },
        {
          "output_type": "display_data",
          "data": {
            "text/latex": "$\\displaystyle \\left|{\\frac{DE}{dx^{2}}}\\right| + \\left|{\\frac{DN}{dy^{2}}}\\right| + \\left|{\\frac{DS}{dy^{2}}}\\right| + \\left|{\\frac{DW}{dx^{2}}}\\right| + \\left|{\\frac{Dk_{1}}{dz^{2}}}\\right| + \\left|{\\frac{Dk1n}{dz^{2}}}\\right| + \\left|{\\frac{\\frac{Dk_{1}}{dz} + \\frac{Dk1n}{dz}}{dz} + \\frac{\\frac{DN}{dy} + \\frac{DS}{dy}}{dy} + \\frac{\\frac{DE}{dx} + \\frac{DW}{dx}}{dx} + \\frac{1}{dt}}\\right|$",
            "text/plain": "Abs(DE/dx**2) + Abs(DN/dy**2) + Abs(DS/dy**2) + Abs(DW/dx**2) + Abs(Dk1/dz**2) + Abs(Dk1n/dz**2) + Abs((Dk1/dz + Dk1n/dz)/dz + (DN/dy + DS/dy)/dy + (DE/dx + DW/dx)/dx + 1/dt)"
          },
          "metadata": {}
        }
      ],
      "execution_count": 27
    },
    {
      "id": "c38ec0eb-0e6e-4cdb-b34f-d3c4625a7c78",
      "cell_type": "code",
      "source": "julia_code(R1D_prime)",
      "metadata": {
        "trusted": true
      },
      "outputs": [
        {
          "execution_count": 29,
          "output_type": "execute_result",
          "data": {
            "text/plain": "'abs(DE ./ dx .^ 2) + abs(DW ./ dx .^ 2) + abs((DE ./ dx + DW ./ dx) ./ dx + 1 ./ dt)'"
          },
          "metadata": {}
        }
      ],
      "execution_count": 29
    },
    {
      "id": "8a1c4686-5aca-4d69-a7ae-79d563887178",
      "cell_type": "code",
      "source": "julia_code(R2D_prime)",
      "metadata": {
        "trusted": true
      },
      "outputs": [
        {
          "execution_count": 30,
          "output_type": "execute_result",
          "data": {
            "text/plain": "'abs(DE ./ dx .^ 2) + abs(DN ./ dy .^ 2) + abs(DS ./ dy .^ 2) + abs(DW ./ dx .^ 2) + abs((DN ./ dy + DS ./ dy) ./ dy + (DE ./ dx + DW ./ dx) ./ dx + 1 ./ dt)'"
          },
          "metadata": {}
        }
      ],
      "execution_count": 30
    },
    {
      "id": "543c2ba6-61f6-4bb4-b914-8b9e8ef8a71b",
      "cell_type": "code",
      "source": "julia_code(R3D_prime)",
      "metadata": {
        "trusted": true
      },
      "outputs": [
        {
          "execution_count": 31,
          "output_type": "execute_result",
          "data": {
            "text/plain": "'abs(DE ./ dx .^ 2) + abs(DN ./ dy .^ 2) + abs(DS ./ dy .^ 2) + abs(DW ./ dx .^ 2) + abs(Dk1 ./ dz .^ 2) + abs(Dk1n ./ dz .^ 2) + abs((Dk1 ./ dz + Dk1n ./ dz) ./ dz + (DN ./ dy + DS ./ dy) ./ dy + (DE ./ dx + DW ./ dx) ./ dx + 1 ./ dt)'"
          },
          "metadata": {}
        }
      ],
      "execution_count": 31
    },
    {
      "id": "7ab8a9d1-dfee-4180-bba9-67c771d941ed",
      "cell_type": "code",
      "source": "",
      "metadata": {
        "trusted": true
      },
      "outputs": [],
      "execution_count": null
    },
    {
      "id": "c2798afb-7d38-4edb-b904-13dc8ab963b9",
      "cell_type": "code",
      "source": "",
      "metadata": {
        "trusted": true
      },
      "outputs": [],
      "execution_count": null
    }
  ]
}