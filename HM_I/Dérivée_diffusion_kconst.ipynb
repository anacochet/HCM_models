{
  "metadata": {
    "kernelspec": {
      "name": "xpython",
      "display_name": "Python 3.13 (XPython)",
      "language": "python"
    },
    "language_info": {
      "file_extension": ".py",
      "mimetype": "text/x-python",
      "name": "python",
      "version": "3.13.1"
    }
  },
  "nbformat_minor": 5,
  "nbformat": 4,
  "cells": [
    {
      "id": "d8069b24-5e0a-4bf6-a259-061c80dc22bb",
      "cell_type": "code",
      "source": "%pip install sympy\nfrom sympy import*",
      "metadata": {
        "trusted": true
      },
      "outputs": [
        {
          "name": "stdout",
          "output_type": "stream",
          "text": "Process pip requirements ...\n\nSuccessfully installed sympy-1.14.0 mpmath-1.3.0\n"
        }
      ],
      "execution_count": 1
    },
    {
      "id": "28ccf352-9a6b-4dc9-a87a-ad094bb1d220",
      "cell_type": "code",
      "source": "# Definir les variables symboliques \nPC,PN,PE,PS,PW,Pk1,Pk1n = symbols('PC PW PE PN PS Pk1 Pk1n')\nPold                    = symbols('Pold')\nqN,qE,qS,qW,qk1,qk1n    = symbols('qN qE qS qW qk1 qk1n')\nP1D                     = (PC,PW,PE)\nP2D                     = (PC,PW,PE,PN,PS)\nP3D                     = (PC,PW,PE,PN,PS,Pk1,Pk1n)\nD                       = symbols('D')\ndx,dy,dz,dt             = symbols('dx dy dz dt')",
      "metadata": {
        "trusted": true
      },
      "outputs": [],
      "execution_count": 4
    },
    {
      "id": "2d3f1c0b-b376-4873-a354-e16007f4d0de",
      "cell_type": "code",
      "source": "# Définir les equations \nqE   = -D*(PE-PC)/dx \nqW   = -D*(PC-PW)/dx\nqN   = -D*(PN-PC)/dy\nqS   = -D*(PC-PS)/dy\nqk1  = -D*(Pk1-PC)/dz\nqk1n = -D*(PC-Pk1n)/dz\n\nR1D  = -((PC -Pold) /dt + (qE - qW)/dx)\nR2D  = -((PC - Pold)/dt + (qE - qW)/dx + (qN - qS)/dy)\nR3D  = - ((PC-Pold) / dt + (qE - qW)/dx + (qN - qS)/dy + (qk1 - qk1n)/dz) \n\ndisplay(R1D)\ndisplay(R2D)\ndisplay(R3D)\n",
      "metadata": {
        "trusted": true
      },
      "outputs": [
        {
          "output_type": "display_data",
          "data": {
            "text/latex": "$\\displaystyle - \\frac{- \\frac{D \\left(- PC + PE\\right)}{dx} + \\frac{D \\left(PC - PS\\right)}{dx}}{dx} - \\frac{PC - Pold}{dt}$",
            "text/plain": "-(-D*(-PC + PE)/dx + D*(PC - PS)/dx)/dx - (PC - Pold)/dt"
          },
          "metadata": {}
        },
        {
          "output_type": "display_data",
          "data": {
            "text/latex": "$\\displaystyle - \\frac{- \\frac{D \\left(- PC + PW\\right)}{dy} + \\frac{D \\left(PC - PN\\right)}{dy}}{dy} - \\frac{- \\frac{D \\left(- PC + PE\\right)}{dx} + \\frac{D \\left(PC - PS\\right)}{dx}}{dx} - \\frac{PC - Pold}{dt}$",
            "text/plain": "-(-D*(-PC + PW)/dy + D*(PC - PN)/dy)/dy - (-D*(-PC + PE)/dx + D*(PC - PS)/dx)/dx - (PC - Pold)/dt"
          },
          "metadata": {}
        },
        {
          "output_type": "display_data",
          "data": {
            "text/latex": "$\\displaystyle - \\frac{- \\frac{D \\left(- PC + Pk_{1}\\right)}{dz} + \\frac{D \\left(PC - Pk1n\\right)}{dz}}{dz} - \\frac{- \\frac{D \\left(- PC + PW\\right)}{dy} + \\frac{D \\left(PC - PN\\right)}{dy}}{dy} - \\frac{- \\frac{D \\left(- PC + PE\\right)}{dx} + \\frac{D \\left(PC - PS\\right)}{dx}}{dx} - \\frac{PC - Pold}{dt}$",
            "text/plain": "-(-D*(-PC + Pk1)/dz + D*(PC - Pk1n)/dz)/dz - (-D*(-PC + PW)/dy + D*(PC - PN)/dy)/dy - (-D*(-PC + PE)/dx + D*(PC - PS)/dx)/dx - (PC - Pold)/dt"
          },
          "metadata": {}
        }
      ],
      "execution_count": 5
    },
    {
      "id": "69034a6b-ad84-4ced-ba7f-48c26347de9e",
      "cell_type": "code",
      "source": "# Calcul la dérivée de l'équation \nR1D_prime = 0\nR2D_prime = 0\nR3D_prime = 0\nfor i in range(3):\n    R1D_prime += abs(diff(R1D, P1D[i]))\n    #print(P[i])\n\nfor i in range(5):\n    R2D_prime += abs(diff(R2D, P2D[i]))\n    #print(P[i])\n\nfor i in range(7):\n    R3D_prime += abs(diff(R3D, P3D[i]))\n    #print(P[i])\n\ndisplay(R1D_prime)\ndisplay(R2D_prime)\ndisplay(R3D_prime)\n",
      "metadata": {
        "trusted": true
      },
      "outputs": [
        {
          "output_type": "display_data",
          "data": {
            "text/latex": "$\\displaystyle 2 \\left|{\\frac{D}{dx^{2}}}\\right| + \\left|{\\frac{2 D}{dx^{2}} + \\frac{1}{dt}}\\right|$",
            "text/plain": "2*Abs(D/dx**2) + Abs(2*D/dx**2 + 1/dt)"
          },
          "metadata": {}
        },
        {
          "output_type": "display_data",
          "data": {
            "text/latex": "$\\displaystyle 2 \\left|{\\frac{D}{dx^{2}}}\\right| + 2 \\left|{\\frac{D}{dy^{2}}}\\right| + \\left|{\\frac{2 D}{dy^{2}} + \\frac{2 D}{dx^{2}} + \\frac{1}{dt}}\\right|$",
            "text/plain": "2*Abs(D/dx**2) + 2*Abs(D/dy**2) + Abs(2*D/dy**2 + 2*D/dx**2 + 1/dt)"
          },
          "metadata": {}
        },
        {
          "output_type": "display_data",
          "data": {
            "text/latex": "$\\displaystyle 2 \\left|{\\frac{D}{dx^{2}}}\\right| + 2 \\left|{\\frac{D}{dy^{2}}}\\right| + 2 \\left|{\\frac{D}{dz^{2}}}\\right| + \\left|{\\frac{2 D}{dz^{2}} + \\frac{2 D}{dy^{2}} + \\frac{2 D}{dx^{2}} + \\frac{1}{dt}}\\right|$",
            "text/plain": "2*Abs(D/dx**2) + 2*Abs(D/dy**2) + 2*Abs(D/dz**2) + Abs(2*D/dz**2 + 2*D/dy**2 + 2*D/dx**2 + 1/dt)"
          },
          "metadata": {}
        }
      ],
      "execution_count": 8
    },
    {
      "id": "c38ec0eb-0e6e-4cdb-b34f-d3c4625a7c78",
      "cell_type": "code",
      "source": "julia_code(R1D_prime)",
      "metadata": {
        "trusted": true
      },
      "outputs": [
        {
          "execution_count": 9,
          "output_type": "execute_result",
          "data": {
            "text/plain": "'2 * abs(D ./ dx .^ 2) + abs(2 * D ./ dx .^ 2 + 1 ./ dt)'"
          },
          "metadata": {}
        }
      ],
      "execution_count": 9
    },
    {
      "id": "8a1c4686-5aca-4d69-a7ae-79d563887178",
      "cell_type": "code",
      "source": "julia_code(R2D_prime)",
      "metadata": {
        "trusted": true
      },
      "outputs": [
        {
          "execution_count": 10,
          "output_type": "execute_result",
          "data": {
            "text/plain": "'2 * abs(D ./ dx .^ 2) + 2 * abs(D ./ dy .^ 2) + abs(2 * D ./ dy .^ 2 + 2 * D ./ dx .^ 2 + 1 ./ dt)'"
          },
          "metadata": {}
        }
      ],
      "execution_count": 10
    },
    {
      "id": "7d7a7885-0faa-469f-84b1-b9aa4bf8270e",
      "cell_type": "code",
      "source": "julia_code(R3D_prime)",
      "metadata": {
        "trusted": true
      },
      "outputs": [
        {
          "execution_count": 11,
          "output_type": "execute_result",
          "data": {
            "text/plain": "'2 * abs(D ./ dx .^ 2) + 2 * abs(D ./ dy .^ 2) + 2 * abs(D ./ dz .^ 2) + abs(2 * D ./ dz .^ 2 + 2 * D ./ dy .^ 2 + 2 * D ./ dx .^ 2 + 1 ./ dt)'"
          },
          "metadata": {}
        }
      ],
      "execution_count": 11
    },
    {
      "id": "e5ac4cd2-0535-491d-9848-4f42969317b7",
      "cell_type": "code",
      "source": "",
      "metadata": {
        "trusted": true
      },
      "outputs": [],
      "execution_count": null
    }
  ]
}